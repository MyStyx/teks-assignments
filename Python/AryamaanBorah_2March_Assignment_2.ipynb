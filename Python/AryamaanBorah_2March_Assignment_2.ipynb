{
 "cells": [
  {
   "cell_type": "markdown",
   "id": "5cebc1a6",
   "metadata": {},
   "source": [
    "#### "
   ]
  },
  {
   "cell_type": "code",
   "execution_count": 1,
   "id": "d09da47c",
   "metadata": {},
   "outputs": [],
   "source": [
    "import sys\n",
    "import hashlib\n",
    "import os\n",
    "import numpy as np\n",
    "import random\n",
    "import string"
   ]
  },
  {
   "cell_type": "code",
   "execution_count": 2,
   "id": "173ed88f",
   "metadata": {},
   "outputs": [
    {
     "name": "stdout",
     "output_type": "stream",
     "text": [
      "No duplicates found.\n"
     ]
    }
   ],
   "source": [
    "#Q1\n",
    "os.listdir()\n",
    "os.walk('C:')\n",
    "\n",
    "def hashfunc(f):\n",
    "    textfiles = []\n",
    "    hashfiles = []\n",
    "    dupefiles = []\n",
    "    dirpath = f\n",
    "    for (dir_path, dir_names, files_name) in os.walk(dirpath):\n",
    "        for files in files_name:\n",
    "            if '.txt' in files:\n",
    "                abs_url = os.path.join(dir_path, files)\n",
    "                textfiles.append(abs_url)\n",
    "                f = open(abs_url)\n",
    "                try:\n",
    "                    b = bytes(f.read(), 'utf-8')\n",
    "                except:\n",
    "                    pass\n",
    "                else:\n",
    "                    msg = hashlib.md5()\n",
    "                    msg.update(b)\n",
    "                    h = msg.hexdigest()\n",
    "                    if h in hashfiles:\n",
    "                        dupefiles.append(abs_url)\n",
    "                    else:\n",
    "                        hashfiles.append(h)\n",
    "                finally:\n",
    "                    f.close()\n",
    "    if len(dupefiles) != 0:         \n",
    "        print('These are the Duplicate text files found:')\n",
    "        for x in dupefiles:\n",
    "            print(x)\n",
    "        print('Do you wish to delete these files? (Y/N)')\n",
    "        val = input()\n",
    "        if val == 'Y' or val == 'y':\n",
    "            totalfiles = len(dupefiles)\n",
    "            for x in dupefiles:\n",
    "                try:\n",
    "                    os.remove(x)\n",
    "                except OSError as e:\n",
    "                    print(e.strerror)\n",
    "                else:\n",
    "                    print('{} file(s) removed.'.format(totalfiles))\n",
    "        else:\n",
    "            print('No files removed.')\n",
    "    else:\n",
    "        print('No duplicates found.')\n",
    "            \n",
    "hashfunc(r'C:\\Users\\aborah\\pytestfiles')"
   ]
  },
  {
   "cell_type": "code",
   "execution_count": 3,
   "id": "070b2f64",
   "metadata": {},
   "outputs": [
    {
     "name": "stdout",
     "output_type": "stream",
     "text": [
      "#3N1vn\n"
     ]
    }
   ],
   "source": [
    "#Q2\n",
    "order = ['U', 'L', 'L', 'D', 'D', 'S']\n",
    "pswd = ''\n",
    "random.shuffle(order)\n",
    "for x in order:\n",
    "    if x == 'U':\n",
    "        pswd += string.ascii_uppercase[random.randint(0, 26)]\n",
    "    elif x == 'L':\n",
    "        pswd += string.ascii_lowercase[random.randint(0, 26)]\n",
    "    elif x == 'D':\n",
    "        pswd += string.digits[random.randint(0, 9)]\n",
    "    else:\n",
    "        pswd += string.punctuation[random.randint(0, 32)]\n",
    "print(pswd)"
   ]
  },
  {
   "cell_type": "code",
   "execution_count": 4,
   "id": "8b874770",
   "metadata": {},
   "outputs": [
    {
     "name": "stdout",
     "output_type": "stream",
     "text": [
      "[[ 1  2  3  4]\n",
      " [ 5  6  7  8]\n",
      " [ 9 10 11 12]\n",
      " [13 14 15 16]]\n",
      "[[   1    2   27   64]\n",
      " [   5  216    7  512]\n",
      " [   9   10   11 1728]\n",
      " [  13 2744   15   16]]\n"
     ]
    }
   ],
   "source": [
    "#Q3\n",
    "arr = [[1, 2, 3, 4],[5, 6, 7, 8],[9, 10, 11, 12],[13, 14, 15, 16]]\n",
    "mat1 = np.array(arr)\n",
    "print(mat1)\n",
    "def prime(n):\n",
    "    if n <= 1:\n",
    "        return False\n",
    "  \n",
    "    for i in range(2, n):\n",
    "        if n % i == 0:\n",
    "            return False;\n",
    "  \n",
    "    return True\n",
    "\n",
    "m, n = mat1.shape\n",
    "ctr = 0\n",
    "for x in range(m):\n",
    "    for y in range(n):\n",
    "        if prime(ctr) == True:\n",
    "            mat1[x][y] = mat1[x][y] ** 3\n",
    "        ctr += 1\n",
    "print(mat1)"
   ]
  },
  {
   "cell_type": "code",
   "execution_count": 5,
   "id": "59d7abcb",
   "metadata": {},
   "outputs": [
    {
     "name": "stdout",
     "output_type": "stream",
     "text": [
      "[[ 1  2  3  4]\n",
      " [ 5  6  7  8]\n",
      " [ 9 10 11 12]\n",
      " [13 14 15 16]]\n",
      "[[   1    2   29   93]\n",
      " [   5  221    7  519]\n",
      " [   9   10   11 1739]\n",
      " [  13 2757   15   16]]\n"
     ]
    }
   ],
   "source": [
    "#Q4\n",
    "arr = [[1, 2, 3, 4],[5, 6, 7, 8],[9, 10, 11, 12],[13, 14, 15, 16]]\n",
    "mat1 = np.array(arr)\n",
    "print(mat1)\n",
    "def prime(n):\n",
    "    if n <= 1:\n",
    "        return False\n",
    "  \n",
    "    for i in range(2, n):\n",
    "        if n % i == 0:\n",
    "            return False;\n",
    "  \n",
    "    return True\n",
    "\n",
    "\n",
    "m, n = mat1.shape\n",
    "ctr = 0\n",
    "for x in range(m):\n",
    "    for y in range(n):\n",
    "        if prime(ctr) == True:\n",
    "            if y == 0:\n",
    "                mat1[x][y] = mat1[x][y] ** 3 + mat1[x-1][n-1]\n",
    "            else:\n",
    "                mat1[x][y] = mat1[x][y] ** 3 + mat1[x][y-1]\n",
    "        ctr += 1\n",
    "print(mat1)"
   ]
  },
  {
   "cell_type": "code",
   "execution_count": 6,
   "id": "0b41dfa5",
   "metadata": {},
   "outputs": [
    {
     "name": "stdout",
     "output_type": "stream",
     "text": [
      "{1, 2, 3, 4, 6, 7, 8}\n"
     ]
    }
   ],
   "source": [
    "#Q5\n",
    "arr1 = [1, 2, 4, 7, 6, 3, 7]\n",
    "arr2 = [3, 7, 8, 4, 7, 3, 3]\n",
    "set1 = set(arr1)\n",
    "set2 = set(arr2)\n",
    "print(set1 | set2)"
   ]
  },
  {
   "cell_type": "code",
   "execution_count": 7,
   "id": "0f11847e",
   "metadata": {},
   "outputs": [
    {
     "name": "stdout",
     "output_type": "stream",
     "text": [
      "[[ 98  91  98 147  77  70  84]\n",
      " [119 147 126  42 140  98  70]\n",
      " [ 49 119  28  63 112  63   7]\n",
      " [ 42  21  49 140  21 126 140]\n",
      " [  7  56 147 133  56 105  56]\n",
      " [ 98 105 119  56  14 140 126]\n",
      " [ 42 126  98  63  42  77  28]]\n"
     ]
    }
   ],
   "source": [
    "#Q6\n",
    "lst1 = []\n",
    "for x in range(7 * 7):\n",
    "    lst1.append(7 * random.randint(1, 21))\n",
    "    \n",
    "arr1 = np.array(lst1).reshape(7, 7)\n",
    "print(arr1)"
   ]
  },
  {
   "cell_type": "code",
   "execution_count": 8,
   "id": "9b18b3f3",
   "metadata": {},
   "outputs": [
    {
     "name": "stdout",
     "output_type": "stream",
     "text": [
      "[[1 0 1 0 1 0 1]\n",
      " [0 1 0 1 0 1 0]\n",
      " [1 0 1 0 1 0 1]\n",
      " [0 1 0 1 0 1 0]\n",
      " [1 0 1 0 1 0 1]\n",
      " [0 1 0 1 0 1 0]]\n"
     ]
    }
   ],
   "source": [
    "#Q7\n",
    "a = 6\n",
    "b = 7\n",
    "chk = 1\n",
    "mat2 = np.zeros((a, b)).astype(int)\n",
    "mat2[::2,::2] = 1\n",
    "mat2[1::2,1::2] = 1\n",
    "print(mat2)"
   ]
  },
  {
   "cell_type": "code",
   "execution_count": 9,
   "id": "f8cedeac",
   "metadata": {},
   "outputs": [
    {
     "name": "stdout",
     "output_type": "stream",
     "text": [
      "[['A' 'B' 'C' 'D']\n",
      " ['E' 'F' 'G' 'H']\n",
      " ['I' 'a' 'K' 'L']\n",
      " ['M' 'N' 'o' 'P']\n",
      " ['Q' 'R' 'S' 'T']\n",
      " ['U' '0' 'W' 'O']]\n",
      "[[nan 'B' 'C' 'D']\n",
      " [nan 'F' 'G' 'H']\n",
      " [nan nan 'K' 'L']\n",
      " ['M' 'N' nan 'P']\n",
      " ['Q' 'R' 'S' 'T']\n",
      " [nan '0' 'W' nan]]\n",
      "np.nan counts:  7\n"
     ]
    }
   ],
   "source": [
    "#Q8\n",
    "lst1 = ['A', 'B', 'C', 'D', 'E', 'F', 'G', 'H', 'I', 'a', 'K', 'L', 'M', 'N', 'o', 'P', 'Q', 'R', 'S', 'T', 'U', '0', 'W', 'O']\n",
    "vowels = ['A', 'E', 'I', 'O', 'U', 'a', 'e', 'i', 'o', 'u']\n",
    "arr1 = np.array(lst1).reshape(6, 4).astype(dtype=object)\n",
    "print(arr1)\n",
    "for x in range(6):\n",
    "    for y in range(4):\n",
    "        if arr1[x][y] in vowels:\n",
    "            arr1[x][y] = np.nan        \n",
    "print(arr1)\n",
    "ctr = 0\n",
    "for x in range(6):\n",
    "    for y in range(4):\n",
    "        if arr1[x][y] not in lst1:\n",
    "            ctr += 1\n",
    "print('np.nan counts: ', ctr)"
   ]
  },
  {
   "cell_type": "code",
   "execution_count": null,
   "id": "d19b5826",
   "metadata": {},
   "outputs": [],
   "source": []
  },
  {
   "cell_type": "code",
   "execution_count": null,
   "id": "9725c29e",
   "metadata": {},
   "outputs": [],
   "source": []
  },
  {
   "cell_type": "code",
   "execution_count": null,
   "id": "1637c963",
   "metadata": {},
   "outputs": [],
   "source": []
  }
 ],
 "metadata": {
  "kernelspec": {
   "display_name": "Python 3 (ipykernel)",
   "language": "python",
   "name": "python3"
  },
  "language_info": {
   "codemirror_mode": {
    "name": "ipython",
    "version": 3
   },
   "file_extension": ".py",
   "mimetype": "text/x-python",
   "name": "python",
   "nbconvert_exporter": "python",
   "pygments_lexer": "ipython3",
   "version": "3.9.13"
  }
 },
 "nbformat": 4,
 "nbformat_minor": 5
}
